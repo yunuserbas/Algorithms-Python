{
  "cells": [
    {
      "cell_type": "markdown",
      "metadata": {
        "id": "JwPLz8OYILOV"
      },
      "source": [
        "# Question 1\n",
        "\n",
        "Write a Python program which iterates the integers from 1 to 50. For multiples of three print \"Big\" instead of the number and for the multiples of seven prints \"Bang\". For numbers which are multiples of both three and seven print \"BigBang\".\n"
      ]
    },
    {
      "cell_type": "code",
      "execution_count": null,
      "metadata": {
        "colab": {
          "base_uri": "https://localhost:8080/"
        },
        "id": "H6uaojNGHM50",
        "outputId": "87bace98-9ddd-4ab9-decb-5fbcd9be6bf7"
      },
      "outputs": [
        {
          "output_type": "stream",
          "name": "stdout",
          "text": [
            "1\n",
            "2\n",
            "Big\n",
            "4\n",
            "5\n",
            "Big\n",
            "Bang\n",
            "8\n",
            "Big\n",
            "10\n",
            "11\n",
            "Big\n",
            "13\n",
            "Bang\n",
            "Big\n",
            "16\n",
            "17\n",
            "Big\n",
            "19\n",
            "20\n",
            "BigBang\n",
            "22\n",
            "23\n",
            "Big\n",
            "25\n",
            "26\n",
            "Big\n",
            "Bang\n",
            "29\n",
            "Big\n",
            "31\n",
            "32\n",
            "Big\n",
            "34\n",
            "Bang\n",
            "Big\n",
            "37\n",
            "38\n",
            "Big\n",
            "40\n",
            "41\n",
            "BigBang\n",
            "43\n",
            "44\n",
            "Big\n",
            "46\n",
            "47\n",
            "Big\n",
            "Bang\n",
            "50\n"
          ]
        }
      ],
      "source": [
        "for i in range(1, 51):\n",
        "  if i%3 == 0 and i%7== 0:\n",
        "    print(\"BigBang\")\n",
        "  elif i%7 == 0:\n",
        "    print(\"Bang\")\n",
        "  elif i%3 == 0:\n",
        "    print(\"Big\")\n",
        "  else:\n",
        "    print(i)"
      ]
    },
    {
      "cell_type": "markdown",
      "metadata": {
        "id": "OIjVopAWKW-6"
      },
      "source": [
        "# Question 2\n",
        "\n",
        "If the first syllable of a word contains a back vowel (a, ı, o, u), the vowels of the other syllables will be back, and if the first syllable contains a front vowel (e, i, ö, ü), the vowels of the other syllables will be front.\n",
        "\n"
      ]
    },
    {
      "cell_type": "code",
      "execution_count": null,
      "metadata": {
        "colab": {
          "base_uri": "https://localhost:8080/"
        },
        "id": "OzGpSsVDK95W",
        "outputId": "aa7a662a-319f-4765-83c0-0ba8eb031e67"
      },
      "outputs": [
        {
          "output_type": "stream",
          "name": "stdout",
          "text": [
            "Please enter a name: Kuşkonmaz\n",
            "number of back vowels: 3\n",
            "number of front vowels: 0\n",
            "It fits palatal harmony\n"
          ]
        }
      ],
      "source": [
        "name = input(\"Please enter a name: \").lower()\n",
        "\n",
        "back_vowel = 0\n",
        "front_vowel = 0\n",
        "\n",
        "for i in name:\n",
        "  if i in \"aıou\":\n",
        "    back_vowel += 1\n",
        "  elif i in \"eiöü\":\n",
        "    front_vowel += 1\n",
        "\n",
        "print(f\"number of back vowels: {back_vowel}\")\n",
        "print(f\"number of front vowels: {front_vowel}\")\n",
        "\n",
        "if back_vowel > 0 or front_vowel > 0:\n",
        "  if back_vowel + front_vowel == 1:\n",
        "    result = \"It does not fit palatal harmony\"\n",
        "  elif back_vowel*front_vowel == 0:\n",
        "    result = \"It fits palatal harmony\"\n",
        "  else:\n",
        "    result = \"It does not fit palatal harmony\"\n",
        "else:\n",
        "  result = \"There is no vowel\"\n",
        "print(result)\n"
      ]
    },
    {
      "cell_type": "markdown",
      "metadata": {
        "id": "TBZ7wPHlMd55"
      },
      "source": [
        "# Question 3\n",
        "\n",
        "Create an algorithm that if the place value of the number you get from the user is less than 3, print the square of the number instead,\n",
        "\n",
        "if greater than 3 and odd, print the 2 less of the number instead,\n",
        "\n",
        "if greate than 3 and even, print the 1 more of the number instead,\n",
        "\n",
        "if no valid value is entered, print \"invalid input\"."
      ]
    },
    {
      "cell_type": "code",
      "execution_count": 1,
      "metadata": {
        "colab": {
          "base_uri": "https://localhost:8080/"
        },
        "id": "uQ_lgRbHMtLw",
        "outputId": "4081cd8c-f273-49d0-dc95-20f239cc5278"
      },
      "outputs": [
        {
          "output_type": "stream",
          "name": "stdout",
          "text": [
            "Enter a number1345\n",
            "1953\n"
          ]
        }
      ],
      "source": [
        "x = input(\"Enter a number\")\n",
        "\n",
        "result = \"\"\n",
        "if x.isdigit():\n",
        "  for i in x:\n",
        "    if int(i) <= 3:\n",
        "      result += str(int(i)**2)\n",
        "    elif int(i) % 2 == 1:\n",
        "      result += str(int(i) - 2)\n",
        "    else:\n",
        "      result += str(int(i) + 1)\n",
        "else:\n",
        "  print(\"invalid input\")\n",
        "\n",
        "print(result)"
      ]
    },
    {
      "cell_type": "markdown",
      "source": [
        "# Question 4\n",
        "\n",
        "Build an algorithm that detects amicable numbers.\n",
        "\n",
        "Example:\n",
        "\n",
        "220 >> [1, 2, 4, 5, 10, 11, 20, 22, 44, 55, 110] >> sum divisors = 284\n",
        "\n",
        "284 >> [1, 2, 4, 71, 142] >> sum divisors = 220\n",
        "\n",
        "\n"
      ],
      "metadata": {
        "id": "RCtmCf5-w4z1"
      }
    },
    {
      "cell_type": "code",
      "source": [
        "x = int(input(\"Please enter a number: \"))\n",
        "\n",
        "sum_i = 0\n",
        "for i in range(1, x):\n",
        "  if x % i == 0:\n",
        "    sum_i += i\n",
        "\n",
        "sum_j = 0\n",
        "for j in range(1, sum_i):\n",
        "  if sum_i % j == 0:\n",
        "    sum_j += j\n",
        "\n",
        "if x == sum_j:\n",
        "  print(f\"{x} and {sum_i} are amicable numbers.\")\n",
        "else:\n",
        "  print(f\"{x} is lonely number.\")\n",
        "\n"
      ],
      "metadata": {
        "colab": {
          "base_uri": "https://localhost:8080/"
        },
        "id": "heLgpjyexRZh",
        "outputId": "31272934-8ad3-4ec8-b3e4-2ccd38a40b66"
      },
      "execution_count": 3,
      "outputs": [
        {
          "output_type": "stream",
          "name": "stdout",
          "text": [
            "Please enter a number: 220\n",
            "220 and 284 are amicable numbers.\n"
          ]
        }
      ]
    },
    {
      "cell_type": "code",
      "source": [
        "x = int(input(\"Please enter a number: \"))\n",
        "\n",
        "sum_i = sum([i for i in range(1, x) if x % i == 0])\n",
        "sum_j = sum([j for j in range(1, sum_i) if sum_i % j == 0])\n",
        "\n",
        "if x == sum_j:\n",
        "  print(f\"{x} and {sum_i} are amicable numbers.\")\n",
        "else:\n",
        "  print(f\"{x} is lonely number.\")"
      ],
      "metadata": {
        "colab": {
          "base_uri": "https://localhost:8080/"
        },
        "id": "EdoVeF0gxvsL",
        "outputId": "d3423320-5694-401c-fc5e-e2f643c1031d"
      },
      "execution_count": 6,
      "outputs": [
        {
          "output_type": "stream",
          "name": "stdout",
          "text": [
            "Please enter a number: 1184\n",
            "1184 and 1210 are amicable numbers.\n"
          ]
        }
      ]
    },
    {
      "cell_type": "markdown",
      "source": [
        "# Question 5\n",
        "\n",
        "Create an algorithm that asks the employee for weekly working hours and hourly wage information and ultimately calculates the employee's weekly salary.\n",
        "\n",
        "\n",
        "Note : Work over 40 hours per week is paied 1.5 times the wage."
      ],
      "metadata": {
        "id": "Ix-jGmkV9aqt"
      }
    },
    {
      "cell_type": "code",
      "source": [
        "WeeklyHours = float(input(\"Please enter your weekly working hour: \"))\n",
        "HourlyWage = float(input(\"Please enter your hourly wage: \"))\n",
        "\n",
        "if WeeklyHours > 40:\n",
        "  weekly_salary = (WeeklyHours - 40)*(1.5*HourlyWage)+(40*HourlyWage)\n",
        "else:\n",
        "  weekly_salary = WeeklyHours*HourlyWage\n",
        "print(f\"Your weekly salary {weekly_salary}\")"
      ],
      "metadata": {
        "colab": {
          "base_uri": "https://localhost:8080/"
        },
        "id": "0g1FUEaS-DAn",
        "outputId": "7cfa65f6-bc27-445e-cf63-5d1fd5861cbb"
      },
      "execution_count": null,
      "outputs": [
        {
          "output_type": "stream",
          "name": "stdout",
          "text": [
            "Please enter your weekly working hour: 41\n",
            "Please enter your hourly wage: 20\n",
            "Your weekly salary 830.0\n"
          ]
        }
      ]
    },
    {
      "cell_type": "markdown",
      "source": [
        "# Question 6\n",
        "Create an algorithm that will return True if the two integer values you get from the user are equel or the difference of these numbers is multiple of 5.\n"
      ],
      "metadata": {
        "id": "h1Hi18QeBNmC"
      }
    },
    {
      "cell_type": "code",
      "source": [
        "N1 = int(input(\"Please enter the first number: \"))\n",
        "N2 = int(input(\"Please enter the second number: \"))\n",
        "\n",
        "if N1 == N2 or abs(N1 - N2)%5 == 0:\n",
        "  print(True)\n",
        "else:\n",
        "  print(False)"
      ],
      "metadata": {
        "colab": {
          "base_uri": "https://localhost:8080/"
        },
        "id": "XWpzYvlDBmL_",
        "outputId": "3859e3aa-74a0-4008-b11f-37577ac6b696"
      },
      "execution_count": null,
      "outputs": [
        {
          "output_type": "stream",
          "name": "stdout",
          "text": [
            "Please enter the first number: 3\n",
            "Please enter the second number: 8\n",
            "True\n"
          ]
        }
      ]
    },
    {
      "cell_type": "code",
      "source": [
        "print(N1 == N2 or abs(N1 - N2)%5 == 0)"
      ],
      "metadata": {
        "colab": {
          "base_uri": "https://localhost:8080/"
        },
        "id": "6x79-mNpDRFj",
        "outputId": "785b0362-aea2-4dbb-8867-e6bc3e1da348"
      },
      "execution_count": null,
      "outputs": [
        {
          "output_type": "stream",
          "name": "stdout",
          "text": [
            "True\n"
          ]
        }
      ]
    },
    {
      "cell_type": "markdown",
      "source": [
        "# Question 7\n",
        "If the two objects received from the user are of an integer type, write a Python program to sum the two objects.\n"
      ],
      "metadata": {
        "id": "m-z63cFYDlpf"
      }
    },
    {
      "cell_type": "code",
      "source": [
        "x = input(\"please enter a number \")\n",
        "y = input(\"please enter a number \")\n",
        "\n",
        "if x.isnumeric() and y.isnumeric():\n",
        "  a = int(x) + int(y)\n",
        "else:\n",
        "  a = \"You have not entered a number\"\n",
        "\n",
        "print(a)"
      ],
      "metadata": {
        "colab": {
          "base_uri": "https://localhost:8080/"
        },
        "id": "xCa44O7hD8Ss",
        "outputId": "30ae4847-3074-4daf-b161-c2890df0da40"
      },
      "execution_count": null,
      "outputs": [
        {
          "output_type": "stream",
          "name": "stdout",
          "text": [
            "please enter a number 11w\n",
            "please enter a number 11\n",
            "You have not entered a number\n"
          ]
        }
      ]
    },
    {
      "cell_type": "markdown",
      "source": [
        "# Question 8\n",
        "\n",
        "Write a program that takes a country's name and its area as arguments and returns the area of the country's proportion of the total world's landmass.\n",
        "\n",
        "Examples:\n",
        "\n",
        "\"Russia\", 17098242 = \"Russia is 11.48% of the total world's landmass.\n",
        "\n",
        "The total world's landmass is 148,940,000 (km**2)"
      ],
      "metadata": {
        "id": "_9Bj98dOxcTr"
      }
    },
    {
      "cell_type": "code",
      "source": [
        "country_name = input(\"Please enter a country: \")\n",
        "its_area = float(input(\"Please enter the area of the country: \"))\n",
        "percentile = its_area/1489400\n",
        "\n",
        "print(f\"{country_name} is {round(percentile, 2)}% of the total world's landmass\")"
      ],
      "metadata": {
        "colab": {
          "base_uri": "https://localhost:8080/"
        },
        "id": "mhvyH4GQyX2k",
        "outputId": "4729c6e3-34b4-4d9b-bcc2-994d30a04755"
      },
      "execution_count": null,
      "outputs": [
        {
          "output_type": "stream",
          "name": "stdout",
          "text": [
            "Please enter a country: Russia\n",
            "Please enter the area of the country: 17098242\n",
            "Russia is 11.48% of the total world's landmass\n"
          ]
        }
      ]
    },
    {
      "cell_type": "markdown",
      "source": [
        "# Question 9\n",
        "\n",
        "Create an algorithm that finds BMI.\n"
      ],
      "metadata": {
        "id": "siLH8KhA2nFv"
      }
    },
    {
      "cell_type": "code",
      "source": [
        "weight = int(input(\"Enter your weight in kg: \"))\n",
        "height = int(input(\"Enter your height in cm: \"))\n",
        "height_square = (height/100)**2\n",
        "BMI = round(weight/height_square,2)\n",
        "\n",
        "print(f\"Your BMI is {BMI}\")\n",
        "\n",
        "if BMI < 18.5:\n",
        "  body = \"underweight\"\n",
        "elif 18.5 <= BMI <= 25:\n",
        "  body = \"normal\"\n",
        "elif 25 < BMI <= 30:\n",
        "  body = \"overwight\"\n",
        "elif 30 < BMI <= 35:\n",
        "  body = \"obese\"\n",
        "else:\n",
        "  body = \"extremely obese\"\n",
        "\n",
        "print(f\"Your bmi is {BMI} and your body type is {body}.\")"
      ],
      "metadata": {
        "colab": {
          "base_uri": "https://localhost:8080/"
        },
        "id": "B5rLL_aK2zZr",
        "outputId": "10055753-1a85-4706-c5c8-57c4b60c465e"
      },
      "execution_count": null,
      "outputs": [
        {
          "output_type": "stream",
          "name": "stdout",
          "text": [
            "Enter your weight in kg: 52\n",
            "Enter your height in cm: 167\n",
            "Your BMI is 18.65\n",
            "Your bmi is 18.65 and your body type is normal.\n"
          ]
        }
      ]
    },
    {
      "cell_type": "markdown",
      "source": [
        "# Question 10\n",
        "\n",
        "Write a python code that extracts the phone number in a given string expression.\n",
        "\n",
        "Example:\n",
        "\n",
        "given_str = \"My phone number is (111) 222-33-44\"\n",
        "\n",
        "output = 1112223344"
      ],
      "metadata": {
        "id": "Sp-a5Qn170jR"
      }
    },
    {
      "cell_type": "code",
      "source": [
        "given_str =  \"My phone number is (111) 222-33-44\"\n",
        "\n",
        "output = \"\"\n",
        "for i in given_str:\n",
        "  if i in \"0123456789\":\n",
        "    output += i\n",
        "\n",
        "print(output)\n"
      ],
      "metadata": {
        "colab": {
          "base_uri": "https://localhost:8080/"
        },
        "id": "qcbJwZMc8REC",
        "outputId": "381f209d-bc9c-4dda-826c-f86620be69d6"
      },
      "execution_count": null,
      "outputs": [
        {
          "output_type": "stream",
          "name": "stdout",
          "text": [
            "1112223344\n"
          ]
        }
      ]
    },
    {
      "cell_type": "code",
      "source": [
        "given_str =  \"My phone number is (111) 222-33-44\"\n",
        "\n",
        "output = \"\"\n",
        "for i in given_str:\n",
        "  if i.isnumeric():\n",
        "    output += i\n",
        "\n",
        "print(output)"
      ],
      "metadata": {
        "colab": {
          "base_uri": "https://localhost:8080/"
        },
        "id": "S4vwgrzt9qdc",
        "outputId": "63288f53-bf6b-4e0f-c724-d89410724b7b"
      },
      "execution_count": null,
      "outputs": [
        {
          "output_type": "stream",
          "name": "stdout",
          "text": [
            "1112223344\n"
          ]
        }
      ]
    },
    {
      "cell_type": "markdown",
      "source": [
        "# Question 11\n",
        "\n",
        "Ask the user for the grade she/he got from the exam and print the letter grade corresponding to her/his grade.\n"
      ],
      "metadata": {
        "id": "pu5yM1VtDtsH"
      }
    },
    {
      "cell_type": "code",
      "source": [
        "grade = int(input(\"Enter your grade: \"))\n",
        "\n",
        "if 0<= grade <= 100:\n",
        "\n",
        "  if 80 <= grade <=100:\n",
        "    result = \"A\"\n",
        "  elif 65 <= grade:\n",
        "    result = \"B\"\n",
        "  elif 55 <= grade:\n",
        "    result = \"C\"\n",
        "  elif 50 <= grade:\n",
        "    result = \"D\"\n",
        "  else:\n",
        "    result = \"F\"\n",
        "  print(f\"Your letter grade is {result}\")\n",
        "\n",
        "else:\n",
        "  print(\"invalid input\")\n",
        "\n",
        "\n"
      ],
      "metadata": {
        "colab": {
          "base_uri": "https://localhost:8080/"
        },
        "id": "r0Dyyf23ECIU",
        "outputId": "865db8b4-638c-46f8-d974-989088dee92d"
      },
      "execution_count": null,
      "outputs": [
        {
          "output_type": "stream",
          "name": "stdout",
          "text": [
            "Enter your grade: 67\n",
            "Your letter grade is B\n"
          ]
        }
      ]
    },
    {
      "cell_type": "markdown",
      "source": [
        "# Question 12\n",
        "\n",
        "Take a word from the user and create an algorithm that repeats the process starting from the first letter of that word, one letter at a time, up to the last letter, capitalized, and outputs the results in a list."
      ],
      "metadata": {
        "id": "K91A-AbSHvYX"
      }
    },
    {
      "cell_type": "code",
      "source": [],
      "metadata": {
        "id": "9jxZuq0mKbFG"
      },
      "execution_count": null,
      "outputs": []
    },
    {
      "cell_type": "code",
      "source": [
        "word = input(\"Enter a word: \").lower()\n",
        "\n",
        "list = []\n",
        "for i in range(len(word)):\n",
        "  list.append(word[:i] + word[i].upper() + word[i+1:])\n",
        "print(list)"
      ],
      "metadata": {
        "colab": {
          "base_uri": "https://localhost:8080/"
        },
        "id": "wU6yfaibISji",
        "outputId": "e58c61f8-17d6-40e1-ed5c-6d3d605ed817"
      },
      "execution_count": null,
      "outputs": [
        {
          "output_type": "stream",
          "name": "stdout",
          "text": [
            "Enter a word: yUNUS\n",
            "['Yunus', 'yUnus', 'yuNus', 'yunUs', 'yunuS']\n"
          ]
        }
      ]
    },
    {
      "cell_type": "markdown",
      "source": [
        "# Question 13\n",
        "\n",
        "Write a Pyhton dictionary function that takes a string from the user and matches each character in the string with the index number."
      ],
      "metadata": {
        "id": "RMTdDpIgMYWT"
      }
    },
    {
      "cell_type": "code",
      "source": [
        "str_word = input(\"Enter a word: \")\n",
        "\n",
        "key = 0\n",
        "dic = {}\n",
        "for i in str_word:\n",
        "  dic[key] = i\n",
        "  key += 1\n",
        "print(dic)"
      ],
      "metadata": {
        "id": "A2s-U98_MqWb",
        "colab": {
          "base_uri": "https://localhost:8080/"
        },
        "outputId": "f4c8930d-b3dc-49ba-edf4-9c8e81a08c1f"
      },
      "execution_count": null,
      "outputs": [
        {
          "output_type": "stream",
          "name": "stdout",
          "text": [
            "Enter a word: BESacademy\n",
            "{0: 'B', 1: 'E', 2: 'S', 3: 'a', 4: 'c', 5: 'a', 6: 'd', 7: 'e', 8: 'm', 9: 'y'}\n"
          ]
        }
      ]
    },
    {
      "cell_type": "code",
      "source": [
        "str_word = input(\"Enter a word: \")\n",
        "\n",
        "dic = {}\n",
        "for i in range(len(str_word)):\n",
        "  dic[i] = str_word[i]\n",
        "print(dic)"
      ],
      "metadata": {
        "colab": {
          "base_uri": "https://localhost:8080/"
        },
        "id": "YrswTzYBuRG9",
        "outputId": "3728fdce-e118-4ddd-b9a8-691eb1b11dee"
      },
      "execution_count": null,
      "outputs": [
        {
          "output_type": "stream",
          "name": "stdout",
          "text": [
            "Enter a word: BESacademy\n",
            "{0: 'B', 1: 'E', 2: 'S', 3: 'a', 4: 'c', 5: 'a', 6: 'd', 7: 'e', 8: 'm', 9: 'y'}\n"
          ]
        }
      ]
    },
    {
      "cell_type": "code",
      "source": [
        "dict(enumerate(\"BESacademy\"))"
      ],
      "metadata": {
        "colab": {
          "base_uri": "https://localhost:8080/"
        },
        "id": "tKI16RnNukXN",
        "outputId": "39871237-f975-4fc1-d473-4d32819c9d9d"
      },
      "execution_count": null,
      "outputs": [
        {
          "output_type": "execute_result",
          "data": {
            "text/plain": [
              "{0: 'B',\n",
              " 1: 'E',\n",
              " 2: 'S',\n",
              " 3: 'a',\n",
              " 4: 'c',\n",
              " 5: 'a',\n",
              " 6: 'd',\n",
              " 7: 'e',\n",
              " 8: 'm',\n",
              " 9: 'y'}"
            ]
          },
          "metadata": {},
          "execution_count": 5
        }
      ]
    },
    {
      "cell_type": "markdown",
      "source": [
        "# Question 14\n",
        "\n",
        "Multiplication table"
      ],
      "metadata": {
        "id": "2EykQkrDvJUZ"
      }
    },
    {
      "cell_type": "code",
      "source": [
        "a = int(input(\"Enter a number: \"))\n",
        "\n",
        "for i in range(11):\n",
        "  print(f\"{a} x {i} = {a*i}\")"
      ],
      "metadata": {
        "colab": {
          "base_uri": "https://localhost:8080/"
        },
        "id": "WVTfFDkavVJT",
        "outputId": "d77c9e6d-4dac-46cf-ae51-0b04ffeabb4d"
      },
      "execution_count": null,
      "outputs": [
        {
          "output_type": "stream",
          "name": "stdout",
          "text": [
            "Enter a number: 10\n",
            "10 x 0 = 0\n",
            "10 x 1 = 10\n",
            "10 x 2 = 20\n",
            "10 x 3 = 30\n",
            "10 x 4 = 40\n",
            "10 x 5 = 50\n",
            "10 x 6 = 60\n",
            "10 x 7 = 70\n",
            "10 x 8 = 80\n",
            "10 x 9 = 90\n",
            "10 x 10 = 100\n"
          ]
        }
      ]
    },
    {
      "cell_type": "code",
      "source": [
        "a = int(input(\"Enter a number: \"))\n",
        "\n",
        "for i in range(11):\n",
        "  print(\"{} x {} =\".format(a,i), a*i)"
      ],
      "metadata": {
        "colab": {
          "base_uri": "https://localhost:8080/"
        },
        "id": "A8PVvrl1wJNJ",
        "outputId": "f7b75f9d-46d2-462d-c009-bcfd72735559"
      },
      "execution_count": null,
      "outputs": [
        {
          "output_type": "stream",
          "name": "stdout",
          "text": [
            "Enter a number: 5\n",
            "5 x 0 = 0\n",
            "5 x 1 = 5\n",
            "5 x 2 = 10\n",
            "5 x 3 = 15\n",
            "5 x 4 = 20\n",
            "5 x 5 = 25\n",
            "5 x 6 = 30\n",
            "5 x 7 = 35\n",
            "5 x 8 = 40\n",
            "5 x 9 = 45\n",
            "5 x 10 = 50\n"
          ]
        }
      ]
    },
    {
      "cell_type": "markdown",
      "source": [
        "# Question 15\n",
        "\n",
        "Write a Python program that accepts an figure (n) and computes the value of n+nn+nnn.\n",
        "\n",
        "input value = 5\n",
        "\n",
        "output = (5 + 55 + 555) = 615"
      ],
      "metadata": {
        "id": "x6kEUoHBwqlJ"
      }
    },
    {
      "cell_type": "code",
      "source": [
        "n = int(input(\"Enter a number: \"))\n",
        "\n",
        "nn = str(n)*2\n",
        "nnn = str(n)*3\n",
        "result = n + int(nn) + int(nnn)\n",
        "\n",
        "print(f\"{n} + {int(nn)} + {int(nnn)} = {result}\")"
      ],
      "metadata": {
        "colab": {
          "base_uri": "https://localhost:8080/"
        },
        "id": "wDXmTtq2xLvt",
        "outputId": "b15b322e-5f0a-495a-d1bf-3b11c23b05ab"
      },
      "execution_count": null,
      "outputs": [
        {
          "output_type": "stream",
          "name": "stdout",
          "text": [
            "Enter a number: 33\n",
            "33 + 3333 + 333333 = 336699\n"
          ]
        }
      ]
    },
    {
      "cell_type": "markdown",
      "source": [
        "# Question 16\n",
        "\n",
        "Write the code that replaces the first character of a string given to you or received from the user, without changing the first character, with a \"?\" sign.\n",
        "\n",
        "\n",
        "input = restart\n",
        "\n",
        "output = resta?t"
      ],
      "metadata": {
        "id": "Il5gXlHhzoc9"
      }
    },
    {
      "cell_type": "code",
      "source": [
        "word = input(\"Enter a word: \")\n",
        "\n",
        "if word[0] in word[1:]:\n",
        "  rest = word[1:].replace(word[0], \"?\")\n",
        "  result = word[0] + rest\n",
        "  print(result)\n",
        "else:\n",
        "  print(word)\n"
      ],
      "metadata": {
        "colab": {
          "base_uri": "https://localhost:8080/"
        },
        "id": "izsMYvYw1A6c",
        "outputId": "cc94e608-d4f5-479f-a1fd-a34fbe60b14f"
      },
      "execution_count": null,
      "outputs": [
        {
          "output_type": "stream",
          "name": "stdout",
          "text": [
            "Enter a word: tutututu\n",
            "tu?u?u?u\n"
          ]
        }
      ]
    },
    {
      "cell_type": "code",
      "source": [
        "text = input(\"Enter a word: \")\n",
        "\n",
        "new_text = text[0]\n",
        "\n",
        "for i in range(1, len(text)):\n",
        "  if text[i] == text[0]:\n",
        "    new_text += \"?\"\n",
        "  else:\n",
        "    new_text += text[i]\n",
        "print(new_text)\n"
      ],
      "metadata": {
        "colab": {
          "base_uri": "https://localhost:8080/"
        },
        "id": "HHkwwURy4kgw",
        "outputId": "f2030b41-9c52-4caf-fb45-8a64f4ae8558"
      },
      "execution_count": null,
      "outputs": [
        {
          "output_type": "stream",
          "name": "stdout",
          "text": [
            "Enter a word: restart\n",
            "resta?t\n"
          ]
        }
      ]
    },
    {
      "cell_type": "code",
      "source": [
        "text = input(\"Enter a word: \")\n",
        "\n",
        "new_text = text.replace(text[0], \"?\")[1:]\n",
        "print(text[0] + new_text)"
      ],
      "metadata": {
        "colab": {
          "base_uri": "https://localhost:8080/"
        },
        "id": "VZ9WCtYV5fBF",
        "outputId": "9515edef-c5d7-4ec4-e449-d0ee234a613c"
      },
      "execution_count": null,
      "outputs": [
        {
          "output_type": "stream",
          "name": "stdout",
          "text": [
            "Enter a word: restart\n",
            "resta?t\n"
          ]
        }
      ]
    },
    {
      "cell_type": "markdown",
      "source": [
        "# Question 17\n",
        "\n",
        "Write a python code that separates numbers 1 to 50 as even and odd.\n",
        "\n"
      ],
      "metadata": {
        "id": "kAxFs7aG5yZd"
      }
    },
    {
      "cell_type": "code",
      "source": [
        "odd_numbers = []\n",
        "even_numbers = []\n",
        "for a in range(1, 51):\n",
        "  if a % 2 != 0:\n",
        "    odd_numbers.append(a)\n",
        "  else:\n",
        "    even_numbers.append(a)\n",
        "\n",
        "print(\"Odd numbers =\", odd_numbers)\n",
        "print(\"Even numbers =\", even_numbers)"
      ],
      "metadata": {
        "colab": {
          "base_uri": "https://localhost:8080/"
        },
        "id": "dpDh4jf66gv9",
        "outputId": "9b9ff58e-f560-4421-f674-3e7e22e0acfc"
      },
      "execution_count": null,
      "outputs": [
        {
          "output_type": "stream",
          "name": "stdout",
          "text": [
            "Odd numbers = [1, 3, 5, 7, 9, 11, 13, 15, 17, 19, 21, 23, 25, 27, 29, 31, 33, 35, 37, 39, 41, 43, 45, 47, 49]\n",
            "Even numbers = [0, 2, 4, 6, 8, 10, 12, 14, 16, 18, 20, 22, 24, 26, 28, 30, 32, 34, 36, 38, 40, 42, 44, 46, 48, 50]\n"
          ]
        }
      ]
    },
    {
      "cell_type": "code",
      "source": [
        "odds = [i for i in range(1, 51) if i % 2 == 1]\n",
        "evens = [i for i in range(1, 51) if i % 2 == 0]\n",
        "\n",
        "print(\"Odd numbers =\", odds)\n",
        "print(\"Even numbers =\", evens)"
      ],
      "metadata": {
        "colab": {
          "base_uri": "https://localhost:8080/"
        },
        "id": "iohQM_YjMQpk",
        "outputId": "4ac0d429-1800-4b2c-d97d-ef2bb8081a69"
      },
      "execution_count": null,
      "outputs": [
        {
          "output_type": "stream",
          "name": "stdout",
          "text": [
            "Odd numbers = [1, 3, 5, 7, 9, 11, 13, 15, 17, 19, 21, 23, 25, 27, 29, 31, 33, 35, 37, 39, 41, 43, 45, 47, 49]\n",
            "Even numbers = [2, 4, 6, 8, 10, 12, 14, 16, 18, 20, 22, 24, 26, 28, 30, 32, 34, 36, 38, 40, 42, 44, 46, 48, 50]\n"
          ]
        }
      ]
    },
    {
      "cell_type": "markdown",
      "source": [
        "# Question 18\n",
        "\n",
        "Get two numbers from the user. If the first of these numbers is greater than the second, order all the numbers between these numbers from biggest to smallest, otherwise from smallest to biggest.\n",
        "\n",
        "Examples:\n",
        "\n",
        "input = 20, 15\n",
        "\n",
        "output = 20, 19, 18, 17, 16, 15\n",
        "\n",
        "input = 17, 21\n",
        "\n",
        "output = 17, 18, 19, 20, 21"
      ],
      "metadata": {
        "id": "RYu-Nz7uQ452"
      }
    },
    {
      "cell_type": "code",
      "source": [
        "n1 = int(input(\"Enter the first number: \"))\n",
        "n2 = int(input(\"Enter the second number: \"))\n",
        "\n",
        "if n1 < n2:\n",
        "  for i in range(n1, n2+1):\n",
        "    i\n",
        "    print(i, end='\\n')\n",
        "elif n1 > n2:\n",
        "  for i in range(n1, n2-1, -1):\n",
        "    i\n",
        "    print(i, end='\\n')\n",
        "else:\n",
        "  print(n1)"
      ],
      "metadata": {
        "colab": {
          "base_uri": "https://localhost:8080/"
        },
        "id": "wv8AtLzeRxF3",
        "outputId": "f8dd096c-bf15-41ef-926b-061c33803986"
      },
      "execution_count": null,
      "outputs": [
        {
          "output_type": "stream",
          "name": "stdout",
          "text": [
            "Enter the first number: 20\n",
            "Enter the second number: 15\n",
            "20\n",
            "19\n",
            "18\n",
            "17\n",
            "16\n",
            "15\n"
          ]
        }
      ]
    },
    {
      "cell_type": "code",
      "source": [
        "n1 = int(input(\"Enter the first number: \"))\n",
        "n2 = int(input(\"Enter the second number: \"))\n",
        "\n",
        "if n1 < n2:\n",
        "  print(list(range(n1, n2+1)))\n",
        "elif n1 > n2:\n",
        "  print(list(range(n1, n2-1, -1)))\n",
        "else:\n",
        "  print(n1)"
      ],
      "metadata": {
        "colab": {
          "base_uri": "https://localhost:8080/"
        },
        "id": "yKBcpta_UM70",
        "outputId": "03b0b7e3-a2fb-4cf2-99ee-5a2aabb51df7"
      },
      "execution_count": null,
      "outputs": [
        {
          "output_type": "stream",
          "name": "stdout",
          "text": [
            "Enter the first number: 24\n",
            "Enter the second number: 17\n",
            "[24, 23, 22, 21, 20, 19, 18, 17]\n"
          ]
        }
      ]
    },
    {
      "cell_type": "markdown",
      "source": [
        "# Question 19\n",
        "\n",
        "Assume a long string containing more than one word and reverse it word by word."
      ],
      "metadata": {
        "id": "7tYEaCulU1Wv"
      }
    },
    {
      "cell_type": "code",
      "source": [
        "name = \"My name is Jack and I'm 29 years old\"\n",
        "\n",
        "words = name.split(\" \")\n",
        "new_name = \"\"\n",
        "for i in range(len(words)-1 ,-1 , -1):\n",
        "  new_name += words[i] + \" \"\n",
        "print(new_name)"
      ],
      "metadata": {
        "colab": {
          "base_uri": "https://localhost:8080/"
        },
        "id": "Hbxeu43jVMrh",
        "outputId": "5a81320b-16b3-40ea-863d-6cedbd480db2"
      },
      "execution_count": null,
      "outputs": [
        {
          "output_type": "stream",
          "name": "stdout",
          "text": [
            "old years 29 I'm and Jack is name My \n"
          ]
        }
      ]
    },
    {
      "cell_type": "code",
      "source": [
        "name = \"My name is Jack and I'm 29 years old\"\n",
        "\n",
        "words = name.split(\" \")\n",
        "n = len(words) - 1\n",
        "\n",
        "while n >= 0:\n",
        "  print(words[n], end=\" \")\n",
        "  n -=1"
      ],
      "metadata": {
        "colab": {
          "base_uri": "https://localhost:8080/"
        },
        "id": "Mf_2Qp5NXV4y",
        "outputId": "08daa994-484c-45fd-a01b-24c6032f2bfa"
      },
      "execution_count": null,
      "outputs": [
        {
          "output_type": "stream",
          "name": "stdout",
          "text": [
            "old years 29 I'm and Jack is name My "
          ]
        }
      ]
    },
    {
      "cell_type": "code",
      "source": [
        "name = \"My name is Jack and I'm 29 years old\"\n",
        "\n",
        "words = name.split(\" \")\n",
        "print(*words[::-1])"
      ],
      "metadata": {
        "colab": {
          "base_uri": "https://localhost:8080/"
        },
        "id": "_UQk0qOSX2KC",
        "outputId": "fb16c77d-cf5d-4ee3-8430-974d7031a948"
      },
      "execution_count": null,
      "outputs": [
        {
          "output_type": "stream",
          "name": "stdout",
          "text": [
            "old years 29 I'm and Jack is name My\n"
          ]
        }
      ]
    },
    {
      "cell_type": "markdown",
      "source": [
        "# Question 20\n",
        "\n",
        "Imagine a circle and two squares inside and outside the circle. Create a program that makes an integer (radius of the circle) and returns the difference of areas of two squares."
      ],
      "metadata": {
        "id": "qntlIaxRYAzH"
      }
    },
    {
      "cell_type": "code",
      "source": [
        "r = int(input(\"Enter r value: \"))\n",
        "\n",
        "out_square = (2*r)**2\n",
        "inn_square = (r**2)*2\n",
        "\n",
        "diff_square = out_square - inn_square\n",
        "\n",
        "print(f\"The difference is {diff_square}.\")"
      ],
      "metadata": {
        "colab": {
          "base_uri": "https://localhost:8080/"
        },
        "id": "2SzvVeBBZEds",
        "outputId": "7f25b08a-d7b1-4ae2-9fd5-8c0ae01ae2a0"
      },
      "execution_count": null,
      "outputs": [
        {
          "output_type": "stream",
          "name": "stdout",
          "text": [
            "Enter r value: 6\n",
            "The difference is 72.\n"
          ]
        }
      ]
    }
  ],
  "metadata": {
    "colab": {
      "provenance": []
    },
    "kernelspec": {
      "display_name": "Python 3",
      "name": "python3"
    },
    "language_info": {
      "name": "python"
    }
  },
  "nbformat": 4,
  "nbformat_minor": 0
}